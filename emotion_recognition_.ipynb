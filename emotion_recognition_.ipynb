{
  "nbformat": 4,
  "nbformat_minor": 0,
  "metadata": {
    "accelerator": "GPU",
    "colab": {
      "name": "emotion_recognition .ipynb",
      "provenance": [],
      "collapsed_sections": []
    },
    "kernelspec": {
      "display_name": "Python 3",
      "language": "python",
      "name": "python3"
    },
    "language_info": {
      "codemirror_mode": {
        "name": "ipython",
        "version": 3
      },
      "file_extension": ".py",
      "mimetype": "text/x-python",
      "name": "python",
      "nbconvert_exporter": "python",
      "pygments_lexer": "ipython3",
      "version": "3.7.6"
    }
  },
  "cells": [
    {
      "cell_type": "code",
      "metadata": {
        "colab_type": "code",
        "id": "2e4LlqOvEO56",
        "colab": {}
      },
      "source": [
        "!pip install -q kaggle\n"
      ],
      "execution_count": 23,
      "outputs": []
    },
    {
      "cell_type": "code",
      "metadata": {
        "colab_type": "code",
        "id": "TQGEUUAPEV3x",
        "colab": {}
      },
      "source": [
        "!mkdir -p ~/.kaggle\n"
      ],
      "execution_count": 24,
      "outputs": []
    },
    {
      "cell_type": "code",
      "metadata": {
        "colab_type": "code",
        "id": "uqcGaqebEe2s",
        "colab": {}
      },
      "source": [
        "!cp kaggle.json ~/.kaggle/\n"
      ],
      "execution_count": 25,
      "outputs": []
    },
    {
      "cell_type": "code",
      "metadata": {
        "colab_type": "code",
        "id": "EmSzfOLEEi2Q",
        "colab": {
          "base_uri": "https://localhost:8080/",
          "height": 34
        },
        "outputId": "05f5882e-e653-4f70-8797-5c0baf733cea"
      },
      "source": [
        "!ls ~/.kaggle\n"
      ],
      "execution_count": 26,
      "outputs": [
        {
          "output_type": "stream",
          "text": [
            "kaggle.json\n"
          ],
          "name": "stdout"
        }
      ]
    },
    {
      "cell_type": "code",
      "metadata": {
        "colab_type": "code",
        "id": "-2ZnPqEoEn_V",
        "colab": {
          "base_uri": "https://localhost:8080/",
          "height": 51
        },
        "outputId": "41ca97d5-c5bb-47ee-ead7-4f2fe15dc0f6"
      },
      "source": [
        "!kaggle datasets download -d deadskull7/fer2013"
      ],
      "execution_count": 27,
      "outputs": [
        {
          "output_type": "stream",
          "text": [
            "Warning: Your Kaggle API key is readable by other users on this system! To fix this, you can run 'chmod 600 /root/.kaggle/kaggle.json'\n",
            "fer2013.zip: Skipping, found more recently modified local copy (use --force to force download)\n"
          ],
          "name": "stdout"
        }
      ]
    },
    {
      "cell_type": "code",
      "metadata": {
        "colab_type": "code",
        "id": "vUVT0Tg4Esqp",
        "colab": {
          "base_uri": "https://localhost:8080/",
          "height": 34
        },
        "outputId": "2203b541-e011-43a0-d9dd-2455d7c7dfbf"
      },
      "source": [
        "!unzip -q fer2013.zip -d .\n"
      ],
      "execution_count": 28,
      "outputs": [
        {
          "output_type": "stream",
          "text": [
            "replace ./fer2013.csv? [y]es, [n]o, [A]ll, [N]one, [r]ename: A\n"
          ],
          "name": "stdout"
        }
      ]
    },
    {
      "cell_type": "code",
      "metadata": {
        "colab_type": "code",
        "id": "YdAJ_WbqE4KR",
        "colab": {
          "base_uri": "https://localhost:8080/",
          "height": 34
        },
        "outputId": "714e5d97-4c70-4414-d0f8-ea4c20c02d45"
      },
      "source": [
        "!ls"
      ],
      "execution_count": 29,
      "outputs": [
        {
          "output_type": "stream",
          "text": [
            "fer2013.csv  fer2013.zip  fer.json  kaggle.json  sample_data\n"
          ],
          "name": "stdout"
        }
      ]
    },
    {
      "cell_type": "code",
      "metadata": {
        "colab_type": "code",
        "id": "6Xj6RFzkF2DE",
        "colab": {
          "base_uri": "https://localhost:8080/",
          "height": 51
        },
        "outputId": "db9128f9-0315-4419-9336-f8c7ec8b1c80"
      },
      "source": [
        "import sys, os\n",
        "import pandas as pd\n",
        "import numpy as np\n",
        "print(pd.__version__)\n",
        "print(np.__version__)\n",
        "\n"
      ],
      "execution_count": 30,
      "outputs": [
        {
          "output_type": "stream",
          "text": [
            "1.0.5\n",
            "1.18.5\n"
          ],
          "name": "stdout"
        }
      ]
    },
    {
      "cell_type": "code",
      "metadata": {
        "colab_type": "code",
        "id": "GkYJdIj4GAs3",
        "colab": {}
      },
      "source": [
        "import keras\n",
        "from keras.models import Sequential\n",
        "from keras.layers import Dense, Dropout, Activation, Flatten\n",
        "from keras.layers import Conv2D, MaxPooling2D, BatchNormalization,AveragePooling2D\n",
        "from keras.losses import categorical_crossentropy\n",
        "from keras.optimizers import Adam\n",
        "from keras.regularizers import l2\n",
        "from keras.utils import np_utils"
      ],
      "execution_count": 31,
      "outputs": []
    },
    {
      "cell_type": "code",
      "metadata": {
        "id": "mGY8sKgfZp-M",
        "colab_type": "code",
        "colab": {
          "base_uri": "https://localhost:8080/",
          "height": 34
        },
        "outputId": "80f062df-81ef-4ccb-88da-cf3145c0c597"
      },
      "source": [
        "print(keras.__version__)"
      ],
      "execution_count": 32,
      "outputs": [
        {
          "output_type": "stream",
          "text": [
            "2.3.1\n"
          ],
          "name": "stdout"
        }
      ]
    },
    {
      "cell_type": "code",
      "metadata": {
        "colab_type": "code",
        "id": "lc5_ybKaGELy",
        "colab": {}
      },
      "source": [
        "df=pd.read_csv('fer2013.csv')\n"
      ],
      "execution_count": 33,
      "outputs": []
    },
    {
      "cell_type": "code",
      "metadata": {
        "colab_type": "code",
        "id": "7E03i88RGKnL",
        "colab": {}
      },
      "source": [
        "X_train,train_y,X_test,test_y=[],[],[],[]\n"
      ],
      "execution_count": 34,
      "outputs": []
    },
    {
      "cell_type": "code",
      "metadata": {
        "colab_type": "code",
        "id": "A21sLOoaGPY5",
        "colab": {}
      },
      "source": [
        "for index, row in df.iterrows():\n",
        "    val=row['pixels'].split(\" \")\n",
        "    try:\n",
        "        if 'Training' in row['Usage']:\n",
        "           X_train.append(np.array(val,'float32'))\n",
        "           train_y.append(row['emotion'])\n",
        "        elif 'PublicTest' in row['Usage']:\n",
        "           X_test.append(np.array(val,'float32'))\n",
        "           test_y.append(row['emotion'])\n",
        "    except:\n",
        "        print(f\"error occured at index :{index} and row:{row}\")"
      ],
      "execution_count": 35,
      "outputs": []
    },
    {
      "cell_type": "code",
      "metadata": {
        "colab_type": "code",
        "id": "7VQDdjcbGRjD",
        "colab": {}
      },
      "source": [
        "num_features = 64\n",
        "num_labels = 7\n",
        "batch_size = 64\n",
        "epochs = 30\n",
        "width, height = 48, 48\n"
      ],
      "execution_count": 36,
      "outputs": []
    },
    {
      "cell_type": "code",
      "metadata": {
        "colab_type": "code",
        "id": "V2LUEkMcGeqs",
        "colab": {}
      },
      "source": [
        "X_train = np.array(X_train,'float32')\n",
        "train_y = np.array(train_y,'float32')\n",
        "X_test = np.array(X_test,'float32')\n",
        "test_y = np.array(test_y,'float32')"
      ],
      "execution_count": 37,
      "outputs": []
    },
    {
      "cell_type": "code",
      "metadata": {
        "colab_type": "code",
        "id": "QRO5ECI3Gemz",
        "colab": {}
      },
      "source": [
        "train_y=np_utils.to_categorical(train_y, num_classes=num_labels)\n",
        "test_y=np_utils.to_categorical(test_y, num_classes=num_labels)\n"
      ],
      "execution_count": 38,
      "outputs": []
    },
    {
      "cell_type": "code",
      "metadata": {
        "colab_type": "code",
        "id": "skkBAuZqGeio",
        "colab": {}
      },
      "source": [
        "X_train -= np.mean(X_train, axis=0)\n",
        "X_train /= np.std(X_train, axis=0)\n",
        "\n",
        "X_test -= np.mean(X_test, axis=0)\n",
        "X_test /= np.std(X_test, axis=0)\n"
      ],
      "execution_count": 39,
      "outputs": []
    },
    {
      "cell_type": "code",
      "metadata": {
        "colab_type": "code",
        "id": "Te11CB2NGRfZ",
        "colab": {}
      },
      "source": [
        "X_train = X_train.reshape(X_train.shape[0], 48, 48, 1)\n",
        "\n",
        "X_test = X_test.reshape(X_test.shape[0], 48, 48, 1)\n"
      ],
      "execution_count": 40,
      "outputs": []
    },
    {
      "cell_type": "code",
      "metadata": {
        "colab_type": "code",
        "id": "ZppzZI5rGRb7",
        "colab": {}
      },
      "source": [
        "model = Sequential()\n",
        "\n",
        "model.add(Conv2D(64, kernel_size=(3, 3), activation='relu', input_shape=(X_train.shape[1:])))\n",
        "model.add(Conv2D(64,kernel_size= (3, 3), activation='relu'))\n",
        "model.add(MaxPooling2D(pool_size=(2,2), strides=(2, 2)))\n",
        "model.add(Dropout(0.5))\n",
        "\n",
        "\n",
        "model.add(Conv2D(64, (3, 3), activation='relu'))\n",
        "model.add(Conv2D(64, (3, 3), activation='relu'))\n",
        "model.add(MaxPooling2D(pool_size=(2,2), strides=(2, 2)))\n",
        "model.add(Dropout(0.5))\n",
        "\n",
        "\n",
        "model.add(Conv2D(128, (3, 3), activation='relu'))\n",
        "model.add(Conv2D(128, (3, 3), activation='relu'))\n",
        "model.add(MaxPooling2D(pool_size=(2,2), strides=(2, 2)))\n",
        "model.add(Flatten())\n",
        "\n",
        "\n",
        "model.add(Dense(1024, activation='relu'))\n",
        "model.add(Dropout(0.2))\n",
        "model.add(Dense(1024, activation='relu'))\n",
        "model.add(Dropout(0.2))\n",
        "\n",
        "model.add(Dense(num_labels, activation='softmax'))\n"
      ],
      "execution_count": 41,
      "outputs": []
    },
    {
      "cell_type": "code",
      "metadata": {
        "colab_type": "code",
        "id": "KtpziOBoGRZO",
        "colab": {}
      },
      "source": [
        "model.compile(loss=categorical_crossentropy,\n",
        "              optimizer=Adam(),\n",
        "              metrics=['accuracy'])"
      ],
      "execution_count": 42,
      "outputs": []
    },
    {
      "cell_type": "code",
      "metadata": {
        "colab_type": "code",
        "id": "a_oNwvISHL-P",
        "colab": {
          "base_uri": "https://localhost:8080/",
          "height": 1000
        },
        "outputId": "02bf652a-b443-40c4-dbc0-fcc46e4f2c6c"
      },
      "source": [
        "model.fit(X_train, train_y,\n",
        "          batch_size=batch_size,\n",
        "          epochs=epochs,\n",
        "          verbose=1,\n",
        "          validation_data=(X_test, test_y),\n",
        "          shuffle=True)"
      ],
      "execution_count": 43,
      "outputs": [
        {
          "output_type": "stream",
          "text": [
            "Train on 28709 samples, validate on 3589 samples\n",
            "Epoch 1/30\n",
            "28709/28709 [==============================] - 29s 1ms/step - loss: 1.7252 - accuracy: 0.2935 - val_loss: 1.5681 - val_accuracy: 0.3784\n",
            "Epoch 2/30\n",
            "28709/28709 [==============================] - 22s 759us/step - loss: 1.5029 - accuracy: 0.4093 - val_loss: 1.4052 - val_accuracy: 0.4648\n",
            "Epoch 3/30\n",
            "28709/28709 [==============================] - 22s 758us/step - loss: 1.3978 - accuracy: 0.4612 - val_loss: 1.3108 - val_accuracy: 0.4901\n",
            "Epoch 4/30\n",
            "28709/28709 [==============================] - 22s 757us/step - loss: 1.3282 - accuracy: 0.4865 - val_loss: 1.2772 - val_accuracy: 0.5183\n",
            "Epoch 5/30\n",
            "28709/28709 [==============================] - 22s 760us/step - loss: 1.2839 - accuracy: 0.5070 - val_loss: 1.2556 - val_accuracy: 0.5291\n",
            "Epoch 6/30\n",
            "28709/28709 [==============================] - 22s 764us/step - loss: 1.2460 - accuracy: 0.5198 - val_loss: 1.2317 - val_accuracy: 0.5325\n",
            "Epoch 7/30\n",
            "28709/28709 [==============================] - 22s 758us/step - loss: 1.2140 - accuracy: 0.5354 - val_loss: 1.2193 - val_accuracy: 0.5378\n",
            "Epoch 8/30\n",
            "28709/28709 [==============================] - 22s 771us/step - loss: 1.1806 - accuracy: 0.5496 - val_loss: 1.1839 - val_accuracy: 0.5472\n",
            "Epoch 9/30\n",
            "28709/28709 [==============================] - 22s 760us/step - loss: 1.1608 - accuracy: 0.5552 - val_loss: 1.1854 - val_accuracy: 0.5486\n",
            "Epoch 10/30\n",
            "28709/28709 [==============================] - 22s 760us/step - loss: 1.1387 - accuracy: 0.5642 - val_loss: 1.1757 - val_accuracy: 0.5623\n",
            "Epoch 11/30\n",
            "28709/28709 [==============================] - 22s 761us/step - loss: 1.1243 - accuracy: 0.5702 - val_loss: 1.1748 - val_accuracy: 0.5600\n",
            "Epoch 12/30\n",
            "28709/28709 [==============================] - 22s 771us/step - loss: 1.1024 - accuracy: 0.5785 - val_loss: 1.1566 - val_accuracy: 0.5656\n",
            "Epoch 13/30\n",
            "28709/28709 [==============================] - 22s 772us/step - loss: 1.0822 - accuracy: 0.5871 - val_loss: 1.1551 - val_accuracy: 0.5637\n",
            "Epoch 14/30\n",
            "28709/28709 [==============================] - 22s 770us/step - loss: 1.0673 - accuracy: 0.5918 - val_loss: 1.1739 - val_accuracy: 0.5550\n",
            "Epoch 15/30\n",
            "28709/28709 [==============================] - 22s 764us/step - loss: 1.0486 - accuracy: 0.5990 - val_loss: 1.1543 - val_accuracy: 0.5561\n",
            "Epoch 16/30\n",
            "28709/28709 [==============================] - 22s 754us/step - loss: 1.0250 - accuracy: 0.6105 - val_loss: 1.1596 - val_accuracy: 0.5651\n",
            "Epoch 17/30\n",
            "28709/28709 [==============================] - 22s 756us/step - loss: 1.0102 - accuracy: 0.6158 - val_loss: 1.1738 - val_accuracy: 0.5704\n",
            "Epoch 18/30\n",
            "28709/28709 [==============================] - 22s 755us/step - loss: 0.9990 - accuracy: 0.6184 - val_loss: 1.1585 - val_accuracy: 0.5628\n",
            "Epoch 19/30\n",
            "28709/28709 [==============================] - 22s 755us/step - loss: 0.9731 - accuracy: 0.6298 - val_loss: 1.1603 - val_accuracy: 0.5678\n",
            "Epoch 20/30\n",
            "28709/28709 [==============================] - 22s 760us/step - loss: 0.9502 - accuracy: 0.6363 - val_loss: 1.1717 - val_accuracy: 0.5701\n",
            "Epoch 21/30\n",
            "28709/28709 [==============================] - 22s 755us/step - loss: 0.9451 - accuracy: 0.6429 - val_loss: 1.1884 - val_accuracy: 0.5734\n",
            "Epoch 22/30\n",
            "28709/28709 [==============================] - 22s 763us/step - loss: 0.9274 - accuracy: 0.6459 - val_loss: 1.1803 - val_accuracy: 0.5706\n",
            "Epoch 23/30\n",
            "28709/28709 [==============================] - 22s 753us/step - loss: 0.9151 - accuracy: 0.6528 - val_loss: 1.1820 - val_accuracy: 0.5645\n",
            "Epoch 24/30\n",
            "28709/28709 [==============================] - 22s 754us/step - loss: 0.8953 - accuracy: 0.6608 - val_loss: 1.2011 - val_accuracy: 0.5723\n",
            "Epoch 25/30\n",
            "28709/28709 [==============================] - 22s 752us/step - loss: 0.8739 - accuracy: 0.6694 - val_loss: 1.2126 - val_accuracy: 0.5681\n",
            "Epoch 26/30\n",
            "28709/28709 [==============================] - 22s 751us/step - loss: 0.8634 - accuracy: 0.6711 - val_loss: 1.1979 - val_accuracy: 0.5651\n",
            "Epoch 27/30\n",
            "28709/28709 [==============================] - 22s 753us/step - loss: 0.8476 - accuracy: 0.6763 - val_loss: 1.2283 - val_accuracy: 0.5676\n",
            "Epoch 28/30\n",
            "28709/28709 [==============================] - 22s 754us/step - loss: 0.8319 - accuracy: 0.6848 - val_loss: 1.2405 - val_accuracy: 0.5684\n",
            "Epoch 29/30\n",
            "28709/28709 [==============================] - 22s 753us/step - loss: 0.8185 - accuracy: 0.6886 - val_loss: 1.2670 - val_accuracy: 0.5559\n",
            "Epoch 30/30\n",
            "28709/28709 [==============================] - 22s 755us/step - loss: 0.8043 - accuracy: 0.6958 - val_loss: 1.2656 - val_accuracy: 0.5637\n"
          ],
          "name": "stdout"
        },
        {
          "output_type": "execute_result",
          "data": {
            "text/plain": [
              "<keras.callbacks.callbacks.History at 0x7f0bb8565ef0>"
            ]
          },
          "metadata": {
            "tags": []
          },
          "execution_count": 43
        }
      ]
    },
    {
      "cell_type": "code",
      "metadata": {
        "colab_type": "code",
        "id": "ndk7LaPcHSMZ",
        "colab": {}
      },
      "source": [
        "\n",
        "fer_json = model.to_json()\n",
        "with open(\"fer.json\", \"w\") as json_file:\n",
        "    json_file.write(fer_json)\n",
        "model.save_weights(\"fer.h5\")\n"
      ],
      "execution_count": 44,
      "outputs": []
    },
    {
      "cell_type": "code",
      "metadata": {
        "colab_type": "code",
        "id": "-uS9DyJwKPQe",
        "colab": {}
      },
      "source": [
        ""
      ],
      "execution_count": 44,
      "outputs": []
    }
  ]
}